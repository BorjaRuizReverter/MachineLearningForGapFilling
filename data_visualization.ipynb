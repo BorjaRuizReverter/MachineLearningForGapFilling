{
 "cells": [
  {
   "cell_type": "markdown",
   "metadata": {},
   "source": [
    "# Data visualization\n",
    "\n",
    "Before all, it is important to get to know the data.\n",
    "\n",
    "The PRE2013 dataset regards agromet data. Data was gathered by:\n",
    "1. High-frequency devices, which extract the NEE (Net Ecosystem Carbon Exchange or carbon sequestration by the ecosystem) and LE (Latent Energy, which has to do with the flux of water vapor)\n",
    "2. Low-frequency devices, which directly measures the remaining data (Rg, Tair, Tsoil, rH, VPD and Ustar)\n",
    "\n",
    "Lets then import the data into standard dataframe and plot some graphs to know the nuances."
   ]
  },
  {
   "cell_type": "code",
   "execution_count": 2,
   "metadata": {},
   "outputs": [
    {
     "data": {
      "text/html": [
       "<div>\n",
       "<style scoped>\n",
       "    .dataframe tbody tr th:only-of-type {\n",
       "        vertical-align: middle;\n",
       "    }\n",
       "\n",
       "    .dataframe tbody tr th {\n",
       "        vertical-align: top;\n",
       "    }\n",
       "\n",
       "    .dataframe thead th {\n",
       "        text-align: right;\n",
       "    }\n",
       "</style>\n",
       "<table border=\"1\" class=\"dataframe\">\n",
       "  <thead>\n",
       "    <tr style=\"text-align: right;\">\n",
       "      <th></th>\n",
       "      <th>Day</th>\n",
       "      <th>Hour</th>\n",
       "      <th>NEE</th>\n",
       "      <th>LE</th>\n",
       "      <th>H</th>\n",
       "      <th>Rg</th>\n",
       "      <th>Tair</th>\n",
       "      <th>Tsoil</th>\n",
       "      <th>rH</th>\n",
       "      <th>VPD</th>\n",
       "      <th>Ustar</th>\n",
       "    </tr>\n",
       "  </thead>\n",
       "  <tbody>\n",
       "    <tr>\n",
       "      <th>0</th>\n",
       "      <td>--</td>\n",
       "      <td>--</td>\n",
       "      <td>umolm-2s-1</td>\n",
       "      <td>Wm-2</td>\n",
       "      <td>Wm-2</td>\n",
       "      <td>Wm-2</td>\n",
       "      <td>degC</td>\n",
       "      <td>degC</td>\n",
       "      <td>%</td>\n",
       "      <td>hPa</td>\n",
       "      <td>ms-1</td>\n",
       "    </tr>\n",
       "    <tr>\n",
       "      <th>1</th>\n",
       "      <td>1</td>\n",
       "      <td>0.5</td>\n",
       "      <td>-9999</td>\n",
       "      <td>-9999</td>\n",
       "      <td>-9999</td>\n",
       "      <td>-9999</td>\n",
       "      <td>-9999</td>\n",
       "      <td>-9999</td>\n",
       "      <td>-9999</td>\n",
       "      <td>-9999</td>\n",
       "      <td>-9999</td>\n",
       "    </tr>\n",
       "    <tr>\n",
       "      <th>2</th>\n",
       "      <td>1</td>\n",
       "      <td>1</td>\n",
       "      <td>-9999</td>\n",
       "      <td>-9999</td>\n",
       "      <td>-9999</td>\n",
       "      <td>-9999</td>\n",
       "      <td>-9999</td>\n",
       "      <td>-9999</td>\n",
       "      <td>-9999</td>\n",
       "      <td>-9999</td>\n",
       "      <td>-9999</td>\n",
       "    </tr>\n",
       "    <tr>\n",
       "      <th>3</th>\n",
       "      <td>1</td>\n",
       "      <td>1.5</td>\n",
       "      <td>-9999</td>\n",
       "      <td>-9999</td>\n",
       "      <td>-9999</td>\n",
       "      <td>-9999</td>\n",
       "      <td>-9999</td>\n",
       "      <td>-9999</td>\n",
       "      <td>-9999</td>\n",
       "      <td>-9999</td>\n",
       "      <td>-9999</td>\n",
       "    </tr>\n",
       "    <tr>\n",
       "      <th>4</th>\n",
       "      <td>1</td>\n",
       "      <td>2</td>\n",
       "      <td>-9999</td>\n",
       "      <td>-9999</td>\n",
       "      <td>-9999</td>\n",
       "      <td>-9999</td>\n",
       "      <td>-9999</td>\n",
       "      <td>-9999</td>\n",
       "      <td>-9999</td>\n",
       "      <td>-9999</td>\n",
       "      <td>-9999</td>\n",
       "    </tr>\n",
       "    <tr>\n",
       "      <th>...</th>\n",
       "      <td>...</td>\n",
       "      <td>...</td>\n",
       "      <td>...</td>\n",
       "      <td>...</td>\n",
       "      <td>...</td>\n",
       "      <td>...</td>\n",
       "      <td>...</td>\n",
       "      <td>...</td>\n",
       "      <td>...</td>\n",
       "      <td>...</td>\n",
       "      <td>...</td>\n",
       "    </tr>\n",
       "    <tr>\n",
       "      <th>17516</th>\n",
       "      <td>365</td>\n",
       "      <td>22</td>\n",
       "      <td>1.317576</td>\n",
       "      <td>-2.113446</td>\n",
       "      <td>-4.222929</td>\n",
       "      <td>-1.650576</td>\n",
       "      <td>24.11463</td>\n",
       "      <td>29.31614</td>\n",
       "      <td>84.10452</td>\n",
       "      <td>4.693953</td>\n",
       "      <td>0.341839</td>\n",
       "    </tr>\n",
       "    <tr>\n",
       "      <th>17517</th>\n",
       "      <td>365</td>\n",
       "      <td>22.5</td>\n",
       "      <td>0.234337</td>\n",
       "      <td>-17.096266</td>\n",
       "      <td>1.974016</td>\n",
       "      <td>-2.103711</td>\n",
       "      <td>23.99404</td>\n",
       "      <td>29.22911</td>\n",
       "      <td>86.27364</td>\n",
       "      <td>4.024035</td>\n",
       "      <td>0.374856</td>\n",
       "    </tr>\n",
       "    <tr>\n",
       "      <th>17518</th>\n",
       "      <td>365</td>\n",
       "      <td>23</td>\n",
       "      <td>-0.224384</td>\n",
       "      <td>-10.566178</td>\n",
       "      <td>-5.732129</td>\n",
       "      <td>-2.074909</td>\n",
       "      <td>23.87093</td>\n",
       "      <td>29.14392</td>\n",
       "      <td>87.43149</td>\n",
       "      <td>3.657315</td>\n",
       "      <td>0.360931</td>\n",
       "    </tr>\n",
       "    <tr>\n",
       "      <th>17519</th>\n",
       "      <td>365</td>\n",
       "      <td>23.5</td>\n",
       "      <td>1.597789</td>\n",
       "      <td>-9.588491</td>\n",
       "      <td>-4.534221</td>\n",
       "      <td>-2.309459</td>\n",
       "      <td>23.6706</td>\n",
       "      <td>29.05899</td>\n",
       "      <td>88.96199</td>\n",
       "      <td>3.173296</td>\n",
       "      <td>0.431153</td>\n",
       "    </tr>\n",
       "    <tr>\n",
       "      <th>17520</th>\n",
       "      <td>365</td>\n",
       "      <td>24</td>\n",
       "      <td>1.426377</td>\n",
       "      <td>-5.17779</td>\n",
       "      <td>-6.128092</td>\n",
       "      <td>-1.824817</td>\n",
       "      <td>23.67208</td>\n",
       "      <td>28.97242</td>\n",
       "      <td>89.76054</td>\n",
       "      <td>2.943986</td>\n",
       "      <td>0.366103</td>\n",
       "    </tr>\n",
       "  </tbody>\n",
       "</table>\n",
       "<p>17521 rows × 11 columns</p>\n",
       "</div>"
      ],
      "text/plain": [
       "       Day  Hour         NEE         LE         H        Rg      Tair  \\\n",
       "0       --    --  umolm-2s-1       Wm-2      Wm-2      Wm-2      degC   \n",
       "1        1   0.5       -9999      -9999     -9999     -9999     -9999   \n",
       "2        1     1       -9999      -9999     -9999     -9999     -9999   \n",
       "3        1   1.5       -9999      -9999     -9999     -9999     -9999   \n",
       "4        1     2       -9999      -9999     -9999     -9999     -9999   \n",
       "...    ...   ...         ...        ...       ...       ...       ...   \n",
       "17516  365    22    1.317576  -2.113446 -4.222929 -1.650576  24.11463   \n",
       "17517  365  22.5    0.234337 -17.096266  1.974016 -2.103711  23.99404   \n",
       "17518  365    23   -0.224384 -10.566178 -5.732129 -2.074909  23.87093   \n",
       "17519  365  23.5    1.597789  -9.588491 -4.534221 -2.309459   23.6706   \n",
       "17520  365    24    1.426377   -5.17779 -6.128092 -1.824817  23.67208   \n",
       "\n",
       "          Tsoil        rH       VPD     Ustar  \n",
       "0          degC         %       hPa      ms-1  \n",
       "1         -9999     -9999     -9999     -9999  \n",
       "2         -9999     -9999     -9999     -9999  \n",
       "3         -9999     -9999     -9999     -9999  \n",
       "4         -9999     -9999     -9999     -9999  \n",
       "...         ...       ...       ...       ...  \n",
       "17516  29.31614  84.10452  4.693953  0.341839  \n",
       "17517  29.22911  86.27364  4.024035  0.374856  \n",
       "17518  29.14392  87.43149  3.657315  0.360931  \n",
       "17519  29.05899  88.96199  3.173296  0.431153  \n",
       "17520  28.97242  89.76054  2.943986  0.366103  \n",
       "\n",
       "[17521 rows x 11 columns]"
      ]
     },
     "execution_count": 2,
     "metadata": {},
     "output_type": "execute_result"
    }
   ],
   "source": [
    "import pandas as pd\n",
    "\n",
    "df_uncleaned = pd.read_excel('PRE2013.xlsx')\n",
    "df_uncleaned"
   ]
  },
  {
   "cell_type": "markdown",
   "metadata": {},
   "source": [
    "Watch out that the first row (index 0) corresponds to units, so do not consider for plottting\n",
    "\n",
    "Lets plot then the first 999 rows to know what happens at the beginning of the main time series (NEE)."
   ]
  },
  {
   "cell_type": "code",
   "execution_count": 3,
   "metadata": {},
   "outputs": [
    {
     "data": {
      "text/plain": [
       "[<matplotlib.lines.Line2D at 0x7f57b1a8be20>]"
      ]
     },
     "execution_count": 3,
     "metadata": {},
     "output_type": "execute_result"
    },
    {
     "data": {
      "image/png": "[encoded data removed]",
      "text/plain": [
       "<Figure size 432x288 with 1 Axes>"
      ]
     },
     "metadata": {
      "needs_background": "light"
     },
     "output_type": "display_data"
    }
   ],
   "source": [
    "import matplotlib.pyplot as plt\n",
    "\n",
    "plt.plot(df_uncleaned['NEE'][1:1000], color = 'blue', marker = '.', linestyle = ' ', markersize = '1.5')\n",
    "plt.plot(df_uncleaned['LE'][1:1000], color = 'cyan', marker = '.', linestyle = ' ', markersize = '1.5')\n",
    "plt.plot(df_uncleaned['H'][1:1000], color = 'orange', marker = '.', linestyle = ' ', markersize = '1.5')\n",
    "plt.plot(df_uncleaned['Rg'][1:1000], color = 'red', marker = '.', linestyle = ' ', markersize = '1.5')\n",
    "plt.plot(df_uncleaned['rH'][1:1000], color = 'green', marker = '.', linestyle = ' ', markersize = '1.5')"
   ]
  },
  {
   "cell_type": "markdown",
   "metadata": {},
   "source": [
    "As we see:\n",
    "1. The dataset starts with a big gap (marked as -9999 values) in all time series.\n",
    "2. After the big gap at the begining, not all the gaps coincide in all time series. This is important as thanks to this, we could try the goal of using data of environmental time series to fill the gaps of the main series (NEE, LE and H)\n",
    "\n",
    "Lets take the following 1000 rows to check whether we find the same pattern."
   ]
  },
  {
   "cell_type": "code",
   "execution_count": 4,
   "metadata": {},
   "outputs": [
    {
     "data": {
      "text/plain": [
       "[<matplotlib.lines.Line2D at 0x7f57b2fc5f00>]"
      ]
     },
     "execution_count": 4,
     "metadata": {},
     "output_type": "execute_result"
    },
    {
     "data": {
      "image/png": "[encoded data removed]",
      "text/plain": [
       "<Figure size 432x288 with 1 Axes>"
      ]
     },
     "metadata": {
      "needs_background": "light"
     },
     "output_type": "display_data"
    }
   ],
   "source": [
    "plt.plot(df_uncleaned['NEE'][1000:2000], color = 'blue', marker = '.', linestyle = ' ', markersize = '1.5')\n",
    "plt.plot(df_uncleaned['LE'][1000:2000], color = 'cyan', marker = '.', linestyle = ' ', markersize = '1.5')\n",
    "plt.plot(df_uncleaned['H'][1000:2000], color = 'orange', marker = '.', linestyle = ' ', markersize = '1.5')\n",
    "plt.plot(df_uncleaned['Rg'][1000:2000], color = 'red', marker = '.', linestyle = ' ', markersize = '1.5')\n",
    "plt.plot(df_uncleaned['rH'][1000:2000], color = 'green', marker = '.', linestyle = ' ', markersize = '1.5')"
   ]
  },
  {
   "cell_type": "markdown",
   "metadata": {},
   "source": [
    "Not that much. Therefore, for the time series of the whole year we can expect:\n",
    "1. Big data gaps of several days, due to general failure, probably due to blackouts of power supply.\n",
    "2. Punctuated data gaps due to failure of particular devices, mostly on high-frequency ones.\n",
    "\n",
    "If we plot data taken from high-frequency devices (such as NEE) versus data taken from low-frequency devices (such as Rg), we can see the second point better: there more gaps due to the former than due to the latter.\n"
   ]
  },
  {
   "cell_type": "code",
   "execution_count": 11,
   "metadata": {},
   "outputs": [
    {
     "data": {
      "text/plain": [
       "Text(0, 0.5, 'NEE')"
      ]
     },
     "execution_count": 11,
     "metadata": {},
     "output_type": "execute_result"
    },
    {
     "data": {
      "image/png": "[encoded data removed]",
      "text/plain": [
       "<Figure size 432x288 with 1 Axes>"
      ]
     },
     "metadata": {
      "needs_background": "light"
     },
     "output_type": "display_data"
    }
   ],
   "source": [
    "plt.plot(df_uncleaned['Rg'][1:1000], df_uncleaned['NEE'][1:1000], linestyle='', marker='.')\n",
    "plt.xlabel('Rg')\n",
    "plt.ylabel('NEE')"
   ]
  },
  {
   "cell_type": "markdown",
   "metadata": {},
   "source": [
    "As I analyzed in data_preprocessing ipy notebook, NEE highly correlates Rg. Lets visualize if that proceeds."
   ]
  },
  {
   "cell_type": "code",
   "execution_count": 10,
   "metadata": {},
   "outputs": [
    {
     "data": {
      "text/plain": [
       "(-20.0, 20.0)"
      ]
     },
     "execution_count": 10,
     "metadata": {},
     "output_type": "execute_result"
    },
    {
     "data": {
      "image/png": "[encoded data removed]",
      "text/plain": [
       "<Figure size 432x288 with 1 Axes>"
      ]
     },
     "metadata": {
      "needs_background": "light"
     },
     "output_type": "display_data"
    }
   ],
   "source": [
    "plt.plot(df_uncleaned['Rg'][1:1000], df_uncleaned['NEE'][1:1000], linestyle='', marker='.')\n",
    "plt.xlabel('Rg')\n",
    "plt.ylabel('NEE')\n",
    "plt.xlim([-50,700])\n",
    "plt.ylim([-20,20])"
   ]
  },
  {
   "cell_type": "markdown",
   "metadata": {},
   "source": [
    "Also, it was found some corr between NEE and rH. Lets see that."
   ]
  },
  {
   "cell_type": "code",
   "execution_count": 13,
   "metadata": {},
   "outputs": [
    {
     "data": {
      "text/plain": [
       "(-20.0, 20.0)"
      ]
     },
     "execution_count": 13,
     "metadata": {},
     "output_type": "execute_result"
    },
    {
     "data": {
      "image/png": "[encoded data removed]",
      "text/plain": [
       "<Figure size 432x288 with 1 Axes>"
      ]
     },
     "metadata": {
      "needs_background": "light"
     },
     "output_type": "display_data"
    }
   ],
   "source": [
    "plt.plot(df_uncleaned['rH'][1:1000], df_uncleaned['NEE'][1:1000], linestyle='', marker='.')\n",
    "plt.xlabel('rH')\n",
    "plt.ylabel('NEE')\n",
    "plt.xlim([0,100])\n",
    "plt.ylim([-20,20])"
   ]
  },
  {
   "cell_type": "markdown",
   "metadata": {},
   "source": [
    "There is also corr between NEE and Hour (of the day), but the corr analysis done there did not detected. This is because:\n",
    "1. During nighttime, there is no corr at all.\n",
    "2. During dawn up to midday, there is negative corr (Hour increase, but NEE decrease)\n",
    "3. From midday up to nighttime, there is positive corr (Hour increase and NEE increases too)\n",
    "\n",
    "I will not consider firstly Hour into the ML model, but depending on the results I should consider split/classify the data into these 3 cats for improving my data mining.\n"
   ]
  },
  {
   "cell_type": "code",
   "execution_count": 9,
   "metadata": {},
   "outputs": [
    {
     "data": {
      "text/plain": [
       "(-20.0, 20.0)"
      ]
     },
     "execution_count": 9,
     "metadata": {},
     "output_type": "execute_result"
    },
    {
     "data": {
      "image/png": "[encoded data removed]",
      "text/plain": [
       "<Figure size 432x288 with 1 Axes>"
      ]
     },
     "metadata": {
      "needs_background": "light"
     },
     "output_type": "display_data"
    }
   ],
   "source": [
    "plt.plot(df_uncleaned['Hour'][1:1000], df_uncleaned['NEE'][1:1000], linestyle= '', marker= '.')\n",
    "plt.xlabel('Hour')\n",
    "plt.ylabel('NEE')\n",
    "plt.xlim([0,25])\n",
    "plt.ylim([-20,20])"
   ]
  },
  {
   "cell_type": "code",
   "execution_count": null,
   "metadata": {},
   "outputs": [],
   "source": []
  }
 ],
 "metadata": {
  "kernelspec": {
   "display_name": "Python 3",
   "language": "python",
   "name": "python3"
  },
  "language_info": {
   "codemirror_mode": {
    "name": "ipython",
    "version": 3
   },
   "file_extension": ".py",
   "mimetype": "text/x-python",
   "name": "python",
   "nbconvert_exporter": "python",
   "pygments_lexer": "ipython3",
   "version": "3.10.11"
  },
  "orig_nbformat": 4
 },
 "nbformat": 4,
 "nbformat_minor": 2
}
