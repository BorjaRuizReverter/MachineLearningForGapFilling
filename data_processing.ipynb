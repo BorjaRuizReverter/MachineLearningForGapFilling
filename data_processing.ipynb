{
 "cells": [
  {
   "cell_type": "markdown",
   "metadata": {},
   "source": [
    "# Processing the data\n",
    "\n",
    "## Step 1: Upload the cleaned dataset"
   ]
  },
  {
   "cell_type": "code",
   "execution_count": 19,
   "metadata": {},
   "outputs": [
    {
     "name": "stdout",
     "output_type": "stream",
     "text": [
      "               Rg        rH\n",
      "1      467.124900  59.81609\n",
      "2      567.265600  54.25453\n",
      "3      510.038200  50.37691\n",
      "4      562.113500  47.96687\n",
      "5      489.934200  45.71235\n",
      "...           ...       ...\n",
      "11360   -2.632179  87.36536\n",
      "11361   -0.885231  88.51657\n",
      "11362   -1.904163  87.13349\n",
      "11363   -1.932571  87.48014\n",
      "11364   -1.310510  87.57803\n",
      "\n",
      "[11361 rows x 2 columns]\n",
      "            NEE\n",
      "1     -1.282251\n",
      "2     -5.457097\n",
      "3     -3.174246\n",
      "4     -3.362150\n",
      "5     -3.737496\n",
      "...         ...\n",
      "11360  2.652203\n",
      "11361  0.893950\n",
      "11362  1.672291\n",
      "11363  0.844095\n",
      "11364  0.832299\n",
      "\n",
      "[11361 rows x 1 columns]\n"
     ]
    }
   ],
   "source": [
    "import pandas as pd\n",
    "\n",
    "X = pd.read_pickle('X.pkl')\n",
    "y = pd.read_pickle('Y.pkl')\n",
    "print(X)\n",
    "print(y)"
   ]
  },
  {
   "cell_type": "markdown",
   "metadata": {},
   "source": [
    "## Step 2: Split the data"
   ]
  },
  {
   "cell_type": "code",
   "execution_count": 20,
   "metadata": {},
   "outputs": [
    {
     "name": "stdout",
     "output_type": "stream",
     "text": [
      "               Rg        rH\n",
      "3982   237.787300  40.95904\n",
      "589    611.959500  55.40580\n",
      "7695    -2.076583  82.20747\n",
      "2158    -2.639731  94.10475\n",
      "6620    -3.033176  77.12545\n",
      "...           ...       ...\n",
      "7817    -2.844407  86.26534\n",
      "10959   -0.778399  88.79167\n",
      "906     -1.962875  93.33716\n",
      "5196     2.517354  79.44413\n",
      "236    502.330800  63.65034\n",
      "\n",
      "[8520 rows x 2 columns]\n",
      "17040\n",
      "              Rg         rH\n",
      "9668   89.029820   86.29816\n",
      "9207  780.027400   36.52398\n",
      "8007   -0.977286   98.51484\n",
      "2249   -2.867806   90.99128\n",
      "9200  343.705000   59.81927\n",
      "...          ...        ...\n",
      "3194   -0.983599   87.66892\n",
      "9891    6.345633   68.90066\n",
      "6479   -0.931993   97.25005\n",
      "7946   -1.456769   85.97623\n",
      "5007   -1.289494  100.03700\n",
      "\n",
      "[2841 rows x 2 columns]\n",
      "5682\n"
     ]
    }
   ],
   "source": [
    "from sklearn.model_selection import train_test_split\n",
    "\n",
    "'''\n",
    "Data is splitted into train and test\n",
    "'''\n",
    "X_train, X_test, y_train, y_test = train_test_split(X, y, random_state=1)\n",
    "\n",
    "print(X_train)\n",
    "print(X_train.size)\n",
    "print(X_test)\n",
    "print(X_test.size)"
   ]
  },
  {
   "cell_type": "code",
   "execution_count": 21,
   "metadata": {},
   "outputs": [
    {
     "name": "stdout",
     "output_type": "stream",
     "text": [
      "            NEE\n",
      "3982   1.478472\n",
      "589   -4.249636\n",
      "7695   3.894052\n",
      "2158   3.945240\n",
      "6620   4.294096\n",
      "...         ...\n",
      "7817   1.878224\n",
      "10959  0.973065\n",
      "906    3.682107\n",
      "5196   2.751083\n",
      "236   -1.585572\n",
      "\n",
      "[8520 rows x 1 columns]\n",
      "8520\n",
      "           NEE\n",
      "9668 -1.346135\n",
      "9207 -6.474561\n",
      "8007  4.732932\n",
      "2249  4.329803\n",
      "9200 -4.570991\n",
      "...        ...\n",
      "3194  0.641850\n",
      "9891  2.095709\n",
      "6479  1.144712\n",
      "7946  2.675923\n",
      "5007  0.973291\n",
      "\n",
      "[2841 rows x 1 columns]\n",
      "2841\n"
     ]
    }
   ],
   "source": [
    "print(y_train)\n",
    "print(y_train.size)\n",
    "print(y_test)\n",
    "print(y_test.size)"
   ]
  },
  {
   "cell_type": "markdown",
   "metadata": {},
   "source": [
    "## Step 3: Apply the ML model\n",
    "Our goal is to predict future behavor, so I apply a regression"
   ]
  },
  {
   "cell_type": "code",
   "execution_count": 22,
   "metadata": {},
   "outputs": [
    {
     "name": "stderr",
     "output_type": "stream",
     "text": [
      "/home/borja/.local/lib/python3.10/site-packages/sklearn/neural_network/_multilayer_perceptron.py:1625: DataConversionWarning: A column-vector y was passed when a 1d array was expected. Please change the shape of y to (n_samples, ), for example using ravel().\n",
      "  y = column_or_1d(y, warn=True)\n"
     ]
    }
   ],
   "source": [
    "from sklearn.neural_network import MLPRegressor\n",
    "'''\n",
    "I initialize the model and use the fit object to fit the model to data matrix X and target(s) y.\n",
    "'''\n",
    "regreModel = MLPRegressor(random_state=1, max_iter=500).fit(X_train, y_train)"
   ]
  },
  {
   "cell_type": "markdown",
   "metadata": {},
   "source": [
    "## Step 4: Checking the model"
   ]
  },
  {
   "cell_type": "code",
   "execution_count": 23,
   "metadata": {},
   "outputs": [
    {
     "data": {
      "text/plain": [
       "0.5254528228752913"
      ]
     },
     "execution_count": 23,
     "metadata": {},
     "output_type": "execute_result"
    }
   ],
   "source": [
    "regreModel.score(X_test, y_test)"
   ]
  },
  {
   "cell_type": "markdown",
   "metadata": {},
   "source": [
    "## Step 5: Testing the model"
   ]
  },
  {
   "cell_type": "code",
   "execution_count": 24,
   "metadata": {},
   "outputs": [
    {
     "data": {
      "text/plain": [
       "array([-0.16271392, -5.71196625])"
      ]
     },
     "execution_count": 24,
     "metadata": {},
     "output_type": "execute_result"
    }
   ],
   "source": [
    "regreModel.predict(X_test[:2])"
   ]
  },
  {
   "cell_type": "markdown",
   "metadata": {},
   "source": [
    "## Step 6: Saving the model"
   ]
  },
  {
   "cell_type": "code",
   "execution_count": 30,
   "metadata": {},
   "outputs": [
    {
     "data": {
      "text/plain": [
       "['regreModel.model']"
      ]
     },
     "execution_count": 30,
     "metadata": {},
     "output_type": "execute_result"
    }
   ],
   "source": [
    "'''\n",
    "I cannot do the following.\n",
    "It seems that the sklearn.externals package is deprecated in recent versions of scikit-learn\n",
    "'''\n",
    "#from sklearn.externals import joblib\n",
    "\n",
    "import joblib\n",
    "\n",
    "joblib.dump(regreModel, 'regreModel.model')"
   ]
  },
  {
   "cell_type": "code",
   "execution_count": null,
   "metadata": {},
   "outputs": [],
   "source": []
  }
 ],
 "metadata": {
  "kernelspec": {
   "display_name": "Python 3",
   "language": "python",
   "name": "python3"
  },
  "language_info": {
   "codemirror_mode": {
    "name": "ipython",
    "version": 3
   },
   "file_extension": ".py",
   "mimetype": "text/x-python",
   "name": "python",
   "nbconvert_exporter": "python",
   "pygments_lexer": "ipython3",
   "version": "3.10.11"
  },
  "orig_nbformat": 4
 },
 "nbformat": 4,
 "nbformat_minor": 2
}
